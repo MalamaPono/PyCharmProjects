{
 "cells": [
  {
   "cell_type": "markdown",
   "id": "6c203e3e",
   "metadata": {},
   "source": [
    "Outline:\n",
    "- We're going to scrape https://github.com/topics\n",
    "- We'll get a list of topics. For each topic, we'll get topic title, topic page URL and topic description\n",
    "- For each topic, we'll get the top 25 repositories in the topic from the topic page\n",
    "- For each repository, we'll grab the repo name, username, stars and repo URL\n",
    "- For each topic we'll create a CSV file in the following format:\n",
    "- Repo Name,Username,Stars,Repo URL\n",
    "- three.js,mrdoob,69700,https://github.com/mrdoob/three.js\n",
    "- libgdx,libgdx,18300,https://github.com/libgdx/libgdx"
   ]
  },
  {
   "cell_type": "code",
   "execution_count": 1,
   "id": "cdae71db",
   "metadata": {},
   "outputs": [],
   "source": [
    "import requests\n",
    "from bs4 import BeautifulSoup\n",
    "import pandas as pd\n",
    "import os\n",
    "\n",
    "base_url = 'https://github.com'\n",
    "topics_url = 'https://github.com/topics'\n",
    "response = requests.get(topics_url)\n",
    "html = response.text\n",
    "\n",
    "with open('web.html','w') as file:\n",
    "    file.write(html)\n",
    "\n",
    "# if you wanted to make csv of just the topic titles, descriptions, and topic links\n",
    "# dic = {'title':topic_titles,'description':topic_descriptions,'links':topic_links}\n",
    "# topic_df = pd.DataFrame(dic)\n",
    "# topic_df.to_csv('topics.csv',index=None)"
   ]
  },
  {
   "cell_type": "code",
   "execution_count": 2,
   "id": "2e39ba87",
   "metadata": {},
   "outputs": [],
   "source": [
    "def scrape_topics_repos():\n",
    "    topics_url = 'https://github.com/topics'\n",
    "    response = requests.get(topics_url)\n",
    "    html = response.text\n",
    "    \n",
    "    topic_titles,topic_descriptions,topic_links = get_topic_info(topics_url)\n",
    "    \n",
    "    repos_dfs = [get_topic_repo(topic_link) for topic_link in topic_links]\n",
    "    \n",
    "    os.makedirs('data',exist_ok=True)\n",
    "    \n",
    "    for i,repos_df in enumerate(repos_dfs):\n",
    "        repos_df.to_csv('data/' + topic_titles[i] + '.csv',index=None)\n"
   ]
  },
  {
   "cell_type": "code",
   "execution_count": 3,
   "id": "adeef1c2",
   "metadata": {},
   "outputs": [],
   "source": [
    "def get_topic_info(topics_url):\n",
    "    response = requests.get(topics_url)\n",
    "    html = response.text\n",
    "    doc = BeautifulSoup(html,'html.parser')\n",
    "    topic_title_tags = doc.find_all('p',{'class':'f3 lh-condensed mb-0 mt-1 Link--primary'})\n",
    "    topic_description_tags = doc.find_all('p',{'class':'f5 color-fg-muted mb-0 mt-1'})\n",
    "    topic_link_tags = doc.find_all('a',{'class':'d-flex no-underline'})\n",
    "\n",
    "    topic_titles = [topic_tag.text for topic_tag in topic_title_tags]\n",
    "    topic_descriptions = [description_tag.text.strip() for description_tag in topic_description_tags]\n",
    "    topic_links = [base_url + link_tag['href'] for link_tag in topic_link_tags]\n",
    "    \n",
    "    return (topic_titles,topic_descriptions,topic_links)"
   ]
  },
  {
   "cell_type": "code",
   "execution_count": 4,
   "id": "3bf837cc",
   "metadata": {},
   "outputs": [],
   "source": [
    "def parse_star_count(x):\n",
    "    x = x.strip()\n",
    "    if x[-1] == 'k':\n",
    "        num_string = x[:len(x)-1]\n",
    "        return int(float(num_string) * 1000)\n",
    "    else:\n",
    "        return int(x)"
   ]
  },
  {
   "cell_type": "code",
   "execution_count": 5,
   "id": "43082e5c",
   "metadata": {},
   "outputs": [],
   "source": [
    "def get_repo_info(repo_tags,star_tags):\n",
    "    a_tags = [repo_tag.find_all('a') for repo_tag  in repo_tags]\n",
    "    usernames = [a_tag[0].text.strip() for a_tag in a_tags]\n",
    "    repo_names = [a_tag[1].text.strip() for a_tag in a_tags]\n",
    "    repo_links = [base_url + a_tag[1]['href'] for a_tag in a_tags]\n",
    "    stars = [parse_star_count(star_tag.text) for star_tag in star_tags]\n",
    "    \n",
    "    return (usernames,repo_names,repo_links,stars)\n",
    "    "
   ]
  },
  {
   "cell_type": "code",
   "execution_count": 6,
   "id": "a36a48ee",
   "metadata": {},
   "outputs": [],
   "source": [
    "def get_topic_repo(topic_link):\n",
    "    response = requests.get(topic_link)\n",
    "    html = response.text\n",
    "    topic_doc = BeautifulSoup(html,'html.parser')\n",
    "    repo_tags = topic_doc.find_all('h3',{'class':'f3 color-fg-muted text-normal lh-condensed'})\n",
    "    star_tags = topic_doc.find_all('a',{'class':'social-count js-social-count'})\n",
    "    usernames,repo_names,repo_links,stars = get_repo_info(repo_tags,star_tags)\n",
    "\n",
    "    topic_repos_dict = {}\n",
    "\n",
    "    topic_repos_dict['username'] = usernames\n",
    "    topic_repos_dict['repo_name'] = repo_names\n",
    "    topic_repos_dict['stars'] = stars \n",
    "    topic_repos_dict['repo_link'] = repo_links\n",
    "\n",
    "    # the repository dataframe of 30 repositories for each of the 30 topics\n",
    "    # originally in the 30 topics dataframe\n",
    "    repo_df = pd.DataFrame(topic_repos_dict)\n",
    "    \n",
    "    return repo_df"
   ]
  },
  {
   "cell_type": "code",
   "execution_count": 7,
   "id": "6a9d7157",
   "metadata": {},
   "outputs": [],
   "source": [
    "scrape_topics_repos()"
   ]
  }
 ],
 "metadata": {
  "kernelspec": {
   "display_name": "Python 3 (ipykernel)",
   "language": "python",
   "name": "python3"
  },
  "language_info": {
   "codemirror_mode": {
    "name": "ipython",
    "version": 3
   },
   "file_extension": ".py",
   "mimetype": "text/x-python",
   "name": "python",
   "nbconvert_exporter": "python",
   "pygments_lexer": "ipython3",
   "version": "3.9.5"
  }
 },
 "nbformat": 4,
 "nbformat_minor": 5
}
